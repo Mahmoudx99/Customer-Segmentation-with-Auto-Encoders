{
 "cells": [
  {
   "cell_type": "markdown",
   "metadata": {},
   "source": [
    "# Customer Segmentation - Exploratory Data Analysis\n",
    "\n",
    "This notebook performs exploratory data analysis on the customer segmentation dataset."
   ]
  },
  {
   "cell_type": "code",
   "execution_count": null,
   "metadata": {},
   "outputs": [],
   "source": [
    "import pandas as pd\n",
    "import numpy as np\n",
    "import matplotlib.pyplot as plt\n",
    "import seaborn as sns\n",
    "import warnings\n",
    "\n",
    "warnings.filterwarnings('ignore')\n",
    "sns.set_style('whitegrid')\n",
    "plt.rcParams['figure.figsize'] = (12, 6)\n",
    "\n",
    "%matplotlib inline"
   ]
  },
  {
   "cell_type": "markdown",
   "metadata": {},
   "source": [
    "## 1. Load Data"
   ]
  },
  {
   "cell_type": "code",
   "execution_count": null,
   "metadata": {},
   "outputs": [],
   "source": [
    "# Load datasets\n",
    "train_df = pd.read_csv('../data/raw/Train.csv')\n",
    "test_df = pd.read_csv('../data/raw/Test.csv')\n",
    "\n",
    "print(f\"Training data shape: {train_df.shape}\")\n",
    "print(f\"Test data shape: {test_df.shape}\")"
   ]
  },
  {
   "cell_type": "code",
   "execution_count": null,
   "metadata": {},
   "outputs": [],
   "source": [
    "# Display first few rows\n",
    "train_df.head(10)"
   ]
  },
  {
   "cell_type": "markdown",
   "metadata": {},
   "source": [
    "## 2. Basic Information"
   ]
  },
  {
   "cell_type": "code",
   "execution_count": null,
   "metadata": {},
   "outputs": [],
   "source": [
    "# Data types and non-null counts\n",
    "print(\"Training Data Info:\")\n",
    "print(\"=\"*50)\n",
    "train_df.info()\n",
    "\n",
    "print(\"\\n\" + \"=\"*50)\n",
    "print(\"Test Data Info:\")\n",
    "print(\"=\"*50)\n",
    "test_df.info()"
   ]
  },
  {
   "cell_type": "code",
   "execution_count": null,
   "metadata": {},
   "outputs": [],
   "source": [
    "# Statistical summary\n",
    "train_df.describe(include='all')"
   ]
  },
  {
   "cell_type": "markdown",
   "metadata": {},
   "source": [
    "## 3. Missing Values Analysis"
   ]
  },
  {
   "cell_type": "code",
   "execution_count": null,
   "metadata": {},
   "outputs": [],
   "source": [
    "# Missing values in training data\n",
    "missing_train = train_df.isnull().sum()\n",
    "missing_train_pct = (missing_train / len(train_df)) * 100\n",
    "\n",
    "missing_df = pd.DataFrame({\n",
    "    'Missing Count': missing_train,\n",
    "    'Percentage': missing_train_pct\n",
    "})\n",
    "missing_df = missing_df[missing_df['Missing Count'] > 0].sort_values('Missing Count', ascending=False)\n",
    "\n",
    "print(\"Missing Values in Training Data:\")\n",
    "print(missing_df)\n",
    "\n",
    "# Visualize missing values\n",
    "if len(missing_df) > 0:\n",
    "    plt.figure(figsize=(10, 6))\n",
    "    missing_df['Percentage'].plot(kind='bar', color='coral')\n",
    "    plt.title('Missing Values Percentage by Feature', fontsize=14, fontweight='bold')\n",
    "    plt.xlabel('Features')\n",
    "    plt.ylabel('Percentage (%)')\n",
    "    plt.xticks(rotation=45)\n",
    "    plt.tight_layout()\n",
    "    plt.show()"
   ]
  },
  {
   "cell_type": "markdown",
   "metadata": {},
   "source": [
    "## 4. Target Variable Analysis"
   ]
  },
  {
   "cell_type": "code",
   "execution_count": null,
   "metadata": {},
   "outputs": [],
   "source": [
    "# Segmentation distribution\n",
    "print(\"Segmentation Distribution:\")\n",
    "print(train_df['Segmentation'].value_counts().sort_index())\n",
    "print(\"\\n\" + \"=\"*50)\n",
    "print(\"Percentage Distribution:\")\n",
    "print((train_df['Segmentation'].value_counts(normalize=True) * 100).sort_index())\n",
    "\n",
    "# Visualize\n",
    "fig, axes = plt.subplots(1, 2, figsize=(14, 5))\n",
    "\n",
    "# Count plot\n",
    "seg_counts = train_df['Segmentation'].value_counts().sort_index()\n",
    "axes[0].bar(seg_counts.index, seg_counts.values, color='steelblue', edgecolor='black')\n",
    "axes[0].set_title('Customer Segmentation Distribution', fontsize=14, fontweight='bold')\n",
    "axes[0].set_xlabel('Segment')\n",
    "axes[0].set_ylabel('Count')\n",
    "axes[0].grid(axis='y', alpha=0.3)\n",
    "\n",
    "# Pie chart\n",
    "colors = plt.cm.Set3(range(len(seg_counts)))\n",
    "axes[1].pie(seg_counts.values, labels=seg_counts.index, autopct='%1.1f%%', \n",
    "            colors=colors, startangle=90)\n",
    "axes[1].set_title('Segment Proportions', fontsize=14, fontweight='bold')\n",
    "\n",
    "plt.tight_layout()\n",
    "plt.show()"
   ]
  },
  {
   "cell_type": "markdown",
   "metadata": {},
   "source": [
    "## 5. Categorical Features Analysis"
   ]
  },
  {
   "cell_type": "code",
   "execution_count": null,
   "metadata": {},
   "outputs": [],
   "source": [
    "# Identify categorical features\n",
    "categorical_features = ['Gender', 'Ever_Married', 'Graduated', 'Profession', 'Spending_Score', 'Var_1']\n",
    "\n",
    "# Distribution of categorical features\n",
    "fig, axes = plt.subplots(2, 3, figsize=(16, 10))\n",
    "axes = axes.ravel()\n",
    "\n",
    "for idx, col in enumerate(categorical_features):\n",
    "    value_counts = train_df[col].value_counts()\n",
    "    axes[idx].bar(range(len(value_counts)), value_counts.values, color='teal', alpha=0.7)\n",
    "    axes[idx].set_title(f'{col} Distribution', fontsize=12, fontweight='bold')\n",
    "    axes[idx].set_xticks(range(len(value_counts)))\n",
    "    axes[idx].set_xticklabels(value_counts.index, rotation=45, ha='right')\n",
    "    axes[idx].set_ylabel('Count')\n",
    "    axes[idx].grid(axis='y', alpha=0.3)\n",
    "\n",
    "plt.tight_layout()\n",
    "plt.show()\n",
    "\n",
    "# Print unique values\n",
    "for col in categorical_features:\n",
    "    print(f\"\\n{col}: {train_df[col].nunique()} unique values\")\n",
    "    print(f\"Values: {train_df[col].unique()}\")"
   ]
  },
  {
   "cell_type": "markdown",
   "metadata": {},
   "source": [
    "## 6. Numerical Features Analysis"
   ]
  },
  {
   "cell_type": "code",
   "execution_count": null,
   "metadata": {},
   "outputs": [],
   "source": [
    "# Numerical features\n",
    "numerical_features = ['Age', 'Work_Experience', 'Family_Size']\n",
    "\n",
    "# Statistical summary\n",
    "print(\"Numerical Features Statistics:\")\n",
    "print(train_df[numerical_features].describe())"
   ]
  },
  {
   "cell_type": "code",
   "execution_count": null,
   "metadata": {},
   "outputs": [],
   "source": [
    "# Distribution plots\n",
    "fig, axes = plt.subplots(1, 3, figsize=(16, 5))\n",
    "\n",
    "for idx, col in enumerate(numerical_features):\n",
    "    axes[idx].hist(train_df[col].dropna(), bins=30, color='skyblue', edgecolor='black', alpha=0.7)\n",
    "    axes[idx].set_title(f'{col} Distribution', fontsize=12, fontweight='bold')\n",
    "    axes[idx].set_xlabel(col)\n",
    "    axes[idx].set_ylabel('Frequency')\n",
    "    axes[idx].grid(axis='y', alpha=0.3)\n",
    "\n",
    "plt.tight_layout()\n",
    "plt.show()"
   ]
  },
  {
   "cell_type": "code",
   "execution_count": null,
   "metadata": {},
   "outputs": [],
   "source": [
    "# Box plots for outlier detection\n",
    "fig, axes = plt.subplots(1, 3, figsize=(16, 5))\n",
    "\n",
    "for idx, col in enumerate(numerical_features):\n",
    "    axes[idx].boxplot(train_df[col].dropna(), vert=True, patch_artist=True,\n",
    "                     boxprops=dict(facecolor='lightgreen', alpha=0.7))\n",
    "    axes[idx].set_title(f'{col} Box Plot', fontsize=12, fontweight='bold')\n",
    "    axes[idx].set_ylabel(col)\n",
    "    axes[idx].grid(axis='y', alpha=0.3)\n",
    "\n",
    "plt.tight_layout()\n",
    "plt.show()"
   ]
  },
  {
   "cell_type": "markdown",
   "metadata": {},
   "source": [
    "## 7. Feature Correlations"
   ]
  },
  {
   "cell_type": "code",
   "execution_count": null,
   "metadata": {},
   "outputs": [],
   "source": [
    "# Correlation matrix for numerical features\n",
    "correlation_matrix = train_df[numerical_features].corr()\n",
    "\n",
    "plt.figure(figsize=(8, 6))\n",
    "sns.heatmap(correlation_matrix, annot=True, cmap='coolwarm', center=0, \n",
    "            square=True, linewidths=1, cbar_kws={\"shrink\": 0.8})\n",
    "plt.title('Correlation Matrix - Numerical Features', fontsize=14, fontweight='bold')\n",
    "plt.tight_layout()\n",
    "plt.show()"
   ]
  },
  {
   "cell_type": "markdown",
   "metadata": {},
   "source": [
    "## 8. Segmentation vs Features Analysis"
   ]
  },
  {
   "cell_type": "code",
   "execution_count": null,
   "metadata": {},
   "outputs": [],
   "source": [
    "# Age distribution by segment\n",
    "plt.figure(figsize=(12, 6))\n",
    "for segment in sorted(train_df['Segmentation'].unique()):\n",
    "    data = train_df[train_df['Segmentation'] == segment]['Age'].dropna()\n",
    "    plt.hist(data, alpha=0.5, label=f'Segment {segment}', bins=20)\n",
    "\n",
    "plt.xlabel('Age')\n",
    "plt.ylabel('Frequency')\n",
    "plt.title('Age Distribution by Segment', fontsize=14, fontweight='bold')\n",
    "plt.legend()\n",
    "plt.grid(axis='y', alpha=0.3)\n",
    "plt.tight_layout()\n",
    "plt.show()"
   ]
  },
  {
   "cell_type": "code",
   "execution_count": null,
   "metadata": {},
   "outputs": [],
   "source": [
    "# Segment characteristics\n",
    "segment_stats = train_df.groupby('Segmentation')[numerical_features].mean()\n",
    "print(\"Average Feature Values by Segment:\")\n",
    "print(segment_stats)\n",
    "\n",
    "# Visualize\n",
    "segment_stats.plot(kind='bar', figsize=(12, 6), rot=0)\n",
    "plt.title('Average Feature Values by Segment', fontsize=14, fontweight='bold')\n",
    "plt.xlabel('Segment')\n",
    "plt.ylabel('Average Value')\n",
    "plt.legend(title='Features')\n",
    "plt.grid(axis='y', alpha=0.3)\n",
    "plt.tight_layout()\n",
    "plt.show()"
   ]
  },
  {
   "cell_type": "markdown",
   "metadata": {},
   "source": [
    "## 9. Spending Score Analysis"
   ]
  },
  {
   "cell_type": "code",
   "execution_count": null,
   "metadata": {},
   "outputs": [],
   "source": [
    "# Spending score by segment\n",
    "spending_segment = pd.crosstab(train_df['Segmentation'], train_df['Spending_Score'], normalize='index') * 100\n",
    "\n",
    "spending_segment.plot(kind='bar', stacked=True, figsize=(12, 6), colormap='viridis')\n",
    "plt.title('Spending Score Distribution by Segment (%)', fontsize=14, fontweight='bold')\n",
    "plt.xlabel('Segment')\n",
    "plt.ylabel('Percentage')\n",
    "plt.legend(title='Spending Score')\n",
    "plt.xticks(rotation=0)\n",
    "plt.tight_layout()\n",
    "plt.show()"
   ]
  },
  {
   "cell_type": "markdown",
   "metadata": {},
   "source": [
    "## 10. Key Insights Summary"
   ]
  },
  {
   "cell_type": "code",
   "execution_count": null,
   "metadata": {},
   "outputs": [],
   "source": [
    "print(\"=\"*60)\n",
    "print(\"KEY INSIGHTS FROM EDA\")\n",
    "print(\"=\"*60)\n",
    "\n",
    "print(f\"\\n1. Dataset Size:\")\n",
    "print(f\"   - Training samples: {len(train_df)}\")\n",
    "print(f\"   - Test samples: {len(test_df)}\")\n",
    "print(f\"   - Total features: {train_df.shape[1]}\")\n",
    "\n",
    "print(f\"\\n2. Target Variable:\")\n",
    "print(f\"   - Number of segments: {train_df['Segmentation'].nunique()}\")\n",
    "print(f\"   - Segments: {sorted(train_df['Segmentation'].unique())}\")\n",
    "print(f\"   - Class balance: {(train_df['Segmentation'].value_counts().std() / train_df['Segmentation'].value_counts().mean() * 100):.2f}% variation\")\n",
    "\n",
    "print(f\"\\n3. Missing Values:\")\n",
    "total_missing = train_df.isnull().sum().sum()\n",
    "if total_missing > 0:\n",
    "    print(f\"   - Total missing values: {total_missing}\")\n",
    "    for col in train_df.columns:\n",
    "        missing_count = train_df[col].isnull().sum()\n",
    "        if missing_count > 0:\n",
    "            print(f\"   - {col}: {missing_count} ({missing_count/len(train_df)*100:.2f}%)\")\n",
    "else:\n",
    "    print(\"   - No missing values found\")\n",
    "\n",
    "print(f\"\\n4. Feature Types:\")\n",
    "print(f\"   - Numerical: {len(numerical_features)} features\")\n",
    "print(f\"   - Categorical: {len(categorical_features)} features\")\n",
    "\n",
    "print(f\"\\n5. Next Steps:\")\n",
    "print(\"   - Handle missing values\")\n",
    "print(\"   - Encode categorical features\")\n",
    "print(\"   - Scale numerical features\")\n",
    "print(\"   - Design Auto Encoder architecture\")\n",
    "print(\"   - Train model and perform clustering\")\n",
    "print(\"=\"*60)"
   ]
  }
 ],
 "metadata": {
  "kernelspec": {
   "display_name": "Python 3",
   "language": "python",
   "name": "python3"
  },
  "language_info": {
   "codemirror_mode": {
    "name": "ipython",
    "version": 3
   },
   "file_extension": ".py",
   "mimetype": "text/x-python",
   "name": "python",
   "nbconvert_exporter": "python",
   "pygments_lexer": "ipython3",
   "version": "3.8.0"
  }
 },
 "nbformat": 4,
 "nbformat_minor": 4
}
